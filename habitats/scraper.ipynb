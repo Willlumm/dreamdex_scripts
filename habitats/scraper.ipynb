{
 "cells": [
  {
   "cell_type": "code",
   "execution_count": 8,
   "metadata": {},
   "outputs": [
    {
     "data": {
      "text/plain": [
       "\"<!DOCTYPE html>\\n<html>\\n  <meta charset='UTF-8'>\\n  <meta name='viewport' content='width=device-width, initial-scale=1'>\\n\\n  <head>\\n    <script type='text/javascript' src='http://code.jquery.com/jquery-latest.js'></script>\\n    <script type='text/javascript' src='../OverviewText.js'></script>\\n\\n    <!-- Global site tag (gtag.js) - Google Analytics -->\\n<script async src='https://www.googletagmanager.com/gtag/js?id=G-NP4C5XZVLG'></script>\\n<script>\\n  window.dataLayer = window.dataLayer || [];\\n  function gtag(){dataLayer.push(arguments);}\\n  gtag('js', new Date());\\n\\n  gtag('config', 'G-NP4C5XZVLG');\\n</script>\\n  </head>\\n\\n  <script>generateStyle()</script>\\n\\n  <body onload='loadHabitatPage(0)'>\\n\\n  <script>generateNavBar()</script>\\n  <h1 id='habitatname'><strong><center>Habitat</center></strong></h1>\\n  <script>document.getElementById('habitatname').style.color=habitatColors[0]</script>\\n  <div>\\n    <div style='height: 10px; overflow: hidden; width: 100%;'></div>\\n    <hr class='styled-hr' style='width:100%;margin:0px 175px 0px 175px;width:72%;'>\\n    <div style='height: 10px; overflow: hidden; width: 100%;'></div>\\n  </div>\\n  <h3 id='habitatBlurb' style='text-align:center; font-style:italic; margin-left:15%; margin-right:15%; font-size:100%;'>\\n    <font>UNDEFINED</font>\\n  </h3>\\n  <div>\\n    <div style='height: 10px; overflow: hidden; width: 100%;'></div>\\n    <hr class='styled-hr' style='width:100%;margin:0px 175px 0px 175px;width:72%;'>\\n    <div style='height: 10px; overflow: hidden; width: 100%;'></div>\\n  </div>\\n  <br></br>\\n  <div id='habitat-gallery' class='imageGallery' style='line-height: 0px; padding: 0; margin: 0;'>\\n    <div style='display:flex; flex-flow:row wrap; margin-left:15%; margin-right:15%;' id='entryHolder'></div>\\n  </div>\\n  <script>generateFooter()</script>\\n</body>\\n\\n</html>\\n\""
      ]
     },
     "execution_count": 8,
     "metadata": {},
     "output_type": "execute_result"
    }
   ],
   "source": [
    "import requests\n",
    "\n",
    "\n",
    "url = \"https://www.theworldofpokemon.com/habitats/habitat_0.html\" \n",
    "# \"https://www.theworldofpokemon.com/entryPages/entryPage_387.html\"\n",
    "# \"https://pokemondb.net/pokedex/turtwig\"\n",
    "# https://bulbapedia.bulbagarden.net/wiki/Turtwig_(Pok%C3%A9mon)\n",
    "\n",
    "\"\"\"params = {\n",
    "    \"subreddit\":    \"politicalcompass\",\n",
    "    \"sort\":         \"asc\",\n",
    "    \"sort_type\":    \"created_utc\",\n",
    "    \"after\":        0,\n",
    "    \"size\":         1000\n",
    "}\"\"\"\n",
    "\n",
    "response = requests.get(url)\n",
    "response.text"
   ]
  },
  {
   "cell_type": "code",
   "execution_count": 17,
   "metadata": {},
   "outputs": [
    {
     "ename": "RuntimeError",
     "evalue": "This event loop is already running",
     "output_type": "error",
     "traceback": [
      "\u001b[1;31m---------------------------------------------------------------------------\u001b[0m",
      "\u001b[1;31mRuntimeError\u001b[0m                              Traceback (most recent call last)",
      "\u001b[1;32mc:\\Users\\a-wlumme\\Desktop\\pkm\\pkm_learnsets\\habitats\\scraper.ipynb Cell 2\u001b[0m in \u001b[0;36m1\n\u001b[0;32m      <a href='vscode-notebook-cell:/c%3A/Users/a-wlumme/Desktop/pkm/pkm_learnsets/habitats/scraper.ipynb#W3sZmlsZQ%3D%3D?line=6'>7</a>\u001b[0m     r \u001b[39m=\u001b[39m \u001b[39mawait\u001b[39;00m session\u001b[39m.\u001b[39mget(\u001b[39m'\u001b[39m\u001b[39mhttps://python.org/\u001b[39m\u001b[39m'\u001b[39m)\n\u001b[0;32m      <a href='vscode-notebook-cell:/c%3A/Users/a-wlumme/Desktop/pkm/pkm_learnsets/habitats/scraper.ipynb#W3sZmlsZQ%3D%3D?line=7'>8</a>\u001b[0m     \u001b[39mreturn\u001b[39;00m r\n\u001b[1;32m---> <a href='vscode-notebook-cell:/c%3A/Users/a-wlumme/Desktop/pkm/pkm_learnsets/habitats/scraper.ipynb#W3sZmlsZQ%3D%3D?line=9'>10</a>\u001b[0m result \u001b[39m=\u001b[39m session\u001b[39m.\u001b[39;49mrun(get_async)\n\u001b[0;32m     <a href='vscode-notebook-cell:/c%3A/Users/a-wlumme/Desktop/pkm/pkm_learnsets/habitats/scraper.ipynb#W3sZmlsZQ%3D%3D?line=10'>11</a>\u001b[0m \u001b[39m# r.html.render()\u001b[39;00m\n\u001b[0;32m     <a href='vscode-notebook-cell:/c%3A/Users/a-wlumme/Desktop/pkm/pkm_learnsets/habitats/scraper.ipynb#W3sZmlsZQ%3D%3D?line=11'>12</a>\u001b[0m \u001b[39m# r.html.search('Python 2.7 will retire in...{}Enable Guido Mode')[0]\u001b[39;00m\n\u001b[0;32m     <a href='vscode-notebook-cell:/c%3A/Users/a-wlumme/Desktop/pkm/pkm_learnsets/habitats/scraper.ipynb#W3sZmlsZQ%3D%3D?line=12'>13</a>\u001b[0m \u001b[39m# r.text\u001b[39;00m\n",
      "File \u001b[1;32m~\\AppData\\Local\\Packages\\PythonSoftwareFoundation.Python.3.10_qbz5n2kfra8p0\\LocalCache\\local-packages\\Python310\\site-packages\\requests_html.py:774\u001b[0m, in \u001b[0;36mAsyncHTMLSession.run\u001b[1;34m(self, *coros)\u001b[0m\n\u001b[0;32m    768\u001b[0m \u001b[39m\"\"\" Pass in all the coroutines you want to run, it will wrap each one\u001b[39;00m\n\u001b[0;32m    769\u001b[0m \u001b[39m    in a task, run it and wait for the result. Return a list with all\u001b[39;00m\n\u001b[0;32m    770\u001b[0m \u001b[39m    results, this is returned in the same order coros are passed in. \"\"\"\u001b[39;00m\n\u001b[0;32m    771\u001b[0m tasks \u001b[39m=\u001b[39m [\n\u001b[0;32m    772\u001b[0m     asyncio\u001b[39m.\u001b[39mensure_future(coro()) \u001b[39mfor\u001b[39;00m coro \u001b[39min\u001b[39;00m coros\n\u001b[0;32m    773\u001b[0m ]\n\u001b[1;32m--> 774\u001b[0m done, _ \u001b[39m=\u001b[39m \u001b[39mself\u001b[39;49m\u001b[39m.\u001b[39;49mloop\u001b[39m.\u001b[39;49mrun_until_complete(asyncio\u001b[39m.\u001b[39;49mwait(tasks))\n\u001b[0;32m    775\u001b[0m \u001b[39mreturn\u001b[39;00m [t\u001b[39m.\u001b[39mresult() \u001b[39mfor\u001b[39;00m t \u001b[39min\u001b[39;00m done]\n",
      "File \u001b[1;32mC:\\Program Files\\WindowsApps\\PythonSoftwareFoundation.Python.3.10_3.10.3056.0_x64__qbz5n2kfra8p0\\lib\\asyncio\\base_events.py:625\u001b[0m, in \u001b[0;36mBaseEventLoop.run_until_complete\u001b[1;34m(self, future)\u001b[0m\n\u001b[0;32m    614\u001b[0m \u001b[39m\"\"\"Run until the Future is done.\u001b[39;00m\n\u001b[0;32m    615\u001b[0m \n\u001b[0;32m    616\u001b[0m \u001b[39mIf the argument is a coroutine, it is wrapped in a Task.\u001b[39;00m\n\u001b[1;32m   (...)\u001b[0m\n\u001b[0;32m    622\u001b[0m \u001b[39mReturn the Future's result, or raise its exception.\u001b[39;00m\n\u001b[0;32m    623\u001b[0m \u001b[39m\"\"\"\u001b[39;00m\n\u001b[0;32m    624\u001b[0m \u001b[39mself\u001b[39m\u001b[39m.\u001b[39m_check_closed()\n\u001b[1;32m--> 625\u001b[0m \u001b[39mself\u001b[39;49m\u001b[39m.\u001b[39;49m_check_running()\n\u001b[0;32m    627\u001b[0m new_task \u001b[39m=\u001b[39m \u001b[39mnot\u001b[39;00m futures\u001b[39m.\u001b[39misfuture(future)\n\u001b[0;32m    628\u001b[0m future \u001b[39m=\u001b[39m tasks\u001b[39m.\u001b[39mensure_future(future, loop\u001b[39m=\u001b[39m\u001b[39mself\u001b[39m)\n",
      "File \u001b[1;32mC:\\Program Files\\WindowsApps\\PythonSoftwareFoundation.Python.3.10_3.10.3056.0_x64__qbz5n2kfra8p0\\lib\\asyncio\\base_events.py:584\u001b[0m, in \u001b[0;36mBaseEventLoop._check_running\u001b[1;34m(self)\u001b[0m\n\u001b[0;32m    582\u001b[0m \u001b[39mdef\u001b[39;00m \u001b[39m_check_running\u001b[39m(\u001b[39mself\u001b[39m):\n\u001b[0;32m    583\u001b[0m     \u001b[39mif\u001b[39;00m \u001b[39mself\u001b[39m\u001b[39m.\u001b[39mis_running():\n\u001b[1;32m--> 584\u001b[0m         \u001b[39mraise\u001b[39;00m \u001b[39mRuntimeError\u001b[39;00m(\u001b[39m'\u001b[39m\u001b[39mThis event loop is already running\u001b[39m\u001b[39m'\u001b[39m)\n\u001b[0;32m    585\u001b[0m     \u001b[39mif\u001b[39;00m events\u001b[39m.\u001b[39m_get_running_loop() \u001b[39mis\u001b[39;00m \u001b[39mnot\u001b[39;00m \u001b[39mNone\u001b[39;00m:\n\u001b[0;32m    586\u001b[0m         \u001b[39mraise\u001b[39;00m \u001b[39mRuntimeError\u001b[39;00m(\n\u001b[0;32m    587\u001b[0m             \u001b[39m'\u001b[39m\u001b[39mCannot run the event loop while another loop is running\u001b[39m\u001b[39m'\u001b[39m)\n",
      "\u001b[1;31mRuntimeError\u001b[0m: This event loop is already running"
     ]
    }
   ],
   "source": [
    "from requests_html import HTMLSession\n",
    "from requests_html import AsyncHTMLSession\n",
    "\n",
    "session = AsyncHTMLSession()\n",
    "\n",
    "async def get_async():\n",
    "    r = await session.get('https://python.org/')\n",
    "    return r\n",
    "\n",
    "result = session.run(get_async)\n",
    "# r.html.render()\n",
    "# r.html.search('Python 2.7 will retire in...{}Enable Guido Mode')[0]\n",
    "# r.text"
   ]
  },
  {
   "cell_type": "code",
   "execution_count": null,
   "metadata": {},
   "outputs": [
    {
     "data": {
      "text/plain": [
       "'<!DOCTYPE html>\\n<html>\\n <meta charset=\"utf-8\"/>\\n <meta content=\"width=device-width, initial-scale=1\" name=\"viewport\"/>\\n <head>\\n  <script src=\"http://code.jquery.com/jquery-latest.js\" type=\"text/javascript\">\\n  </script>\\n  <script src=\"../OverviewText.js\" type=\"text/javascript\">\\n  </script>\\n  <!-- Global site tag (gtag.js) - Google Analytics -->\\n  <script async=\"\" src=\"https://www.googletagmanager.com/gtag/js?id=G-NP4C5XZVLG\">\\n  </script>\\n  <script>\\n   window.dataLayer = window.dataLayer || [];\\n  function gtag(){dataLayer.push(arguments);}\\n  gtag(\\'js\\', new Date());\\n\\n  gtag(\\'config\\', \\'G-NP4C5XZVLG\\');\\n  </script>\\n </head>\\n <script>\\n  generateStyle()\\n </script>\\n <body onload=\"loadHabitatPage(0)\">\\n  <script>\\n   generateNavBar()\\n  </script>\\n  <h1 id=\"habitatname\">\\n   <strong>\\n    <center>\\n     Habitat\\n    </center>\\n   </strong>\\n  </h1>\\n  <script>\\n   document.getElementById(\\'habitatname\\').style.color=habitatColors[0]\\n  </script>\\n  <div>\\n   <div style=\"height: 10px; overflow: hidden; width: 100%;\">\\n   </div>\\n   <hr class=\"styled-hr\" style=\"width:100%;margin:0px 175px 0px 175px;width:72%;\"/>\\n   <div style=\"height: 10px; overflow: hidden; width: 100%;\">\\n   </div>\\n  </div>\\n  <h3 id=\"habitatBlurb\" style=\"text-align:center; font-style:italic; margin-left:15%; margin-right:15%; font-size:100%;\">\\n   <font>\\n    UNDEFINED\\n   </font>\\n  </h3>\\n  <div>\\n   <div style=\"height: 10px; overflow: hidden; width: 100%;\">\\n   </div>\\n   <hr class=\"styled-hr\" style=\"width:100%;margin:0px 175px 0px 175px;width:72%;\"/>\\n   <div style=\"height: 10px; overflow: hidden; width: 100%;\">\\n   </div>\\n  </div>\\n  <br/>\\n  <div class=\"imageGallery\" id=\"habitat-gallery\" style=\"line-height: 0px; padding: 0; margin: 0;\">\\n   <div id=\"entryHolder\" style=\"display:flex; flex-flow:row wrap; margin-left:15%; margin-right:15%;\">\\n   </div>\\n  </div>\\n  <script>\\n   generateFooter()\\n  </script>\\n </body>\\n</html>\\n'"
      ]
     },
     "execution_count": 5,
     "metadata": {},
     "output_type": "execute_result"
    }
   ],
   "source": [
    "from bs4 import BeautifulSoup\n",
    "\n",
    "soup = BeautifulSoup(response.text, \"html.parser\")\n",
    "soup.prettify()\n",
    "\n",
    "\n"
   ]
  },
  {
   "cell_type": "code",
   "execution_count": null,
   "metadata": {},
   "outputs": [],
   "source": [
    "with open(\"test.html\", \"w\", encoding=\"utf-8\") as file:\n",
    "    file.writelines(response.text)"
   ]
  },
  {
   "cell_type": "code",
   "execution_count": 1,
   "metadata": {},
   "outputs": [
    {
     "ename": "RuntimeError",
     "evalue": "Cannot use HTMLSession within an existing event loop. Use AsyncHTMLSession instead.",
     "output_type": "error",
     "traceback": [
      "\u001b[1;31m---------------------------------------------------------------------------\u001b[0m",
      "\u001b[1;31mRuntimeError\u001b[0m                              Traceback (most recent call last)",
      "Cell \u001b[1;32mIn[1], line 5\u001b[0m\n\u001b[0;32m      3\u001b[0m session \u001b[39m=\u001b[39m HTMLSession()\n\u001b[0;32m      4\u001b[0m result \u001b[39m=\u001b[39m session\u001b[39m.\u001b[39mget(\u001b[39m'\u001b[39m\u001b[39mhttps://www.theworldofpokemon.com/entryPages/entryPage_387.html\u001b[39m\u001b[39m'\u001b[39m)\n\u001b[1;32m----> 5\u001b[0m result\u001b[39m.\u001b[39;49mhtml\u001b[39m.\u001b[39;49mrender()\n\u001b[0;32m      6\u001b[0m \u001b[39m# about = r.html.search(\"Habitat Info\")\u001b[39;00m\n\u001b[0;32m      7\u001b[0m \u001b[39mprint\u001b[39m(result\u001b[39m.\u001b[39mhtml\u001b[39m.\u001b[39mtext)\n",
      "File \u001b[1;32mc:\\Users\\William Lumme\\AppData\\Local\\Programs\\Python\\Python39\\lib\\site-packages\\requests_html.py:586\u001b[0m, in \u001b[0;36mHTML.render\u001b[1;34m(self, retries, script, wait, scrolldown, sleep, reload, timeout, keep_page)\u001b[0m\n\u001b[0;32m    541\u001b[0m \u001b[39mdef\u001b[39;00m \u001b[39mrender\u001b[39m(\u001b[39mself\u001b[39m, retries: \u001b[39mint\u001b[39m \u001b[39m=\u001b[39m \u001b[39m8\u001b[39m, script: \u001b[39mstr\u001b[39m \u001b[39m=\u001b[39m \u001b[39mNone\u001b[39;00m, wait: \u001b[39mfloat\u001b[39m \u001b[39m=\u001b[39m \u001b[39m0.2\u001b[39m, scrolldown\u001b[39m=\u001b[39m\u001b[39mFalse\u001b[39;00m, sleep: \u001b[39mint\u001b[39m \u001b[39m=\u001b[39m \u001b[39m0\u001b[39m, reload: \u001b[39mbool\u001b[39m \u001b[39m=\u001b[39m \u001b[39mTrue\u001b[39;00m, timeout: Union[\u001b[39mfloat\u001b[39m, \u001b[39mint\u001b[39m] \u001b[39m=\u001b[39m \u001b[39m8.0\u001b[39m, keep_page: \u001b[39mbool\u001b[39m \u001b[39m=\u001b[39m \u001b[39mFalse\u001b[39;00m):\n\u001b[0;32m    542\u001b[0m \u001b[39m    \u001b[39m\u001b[39m\"\"\"Reloads the response in Chromium, and replaces HTML content\u001b[39;00m\n\u001b[0;32m    543\u001b[0m \u001b[39m    with an updated version, with JavaScript executed.\u001b[39;00m\n\u001b[0;32m    544\u001b[0m \n\u001b[1;32m   (...)\u001b[0m\n\u001b[0;32m    583\u001b[0m \u001b[39m    Chromium into your home directory (``~/.pyppeteer``).\u001b[39;00m\n\u001b[0;32m    584\u001b[0m \u001b[39m    \"\"\"\u001b[39;00m\n\u001b[1;32m--> 586\u001b[0m     \u001b[39mself\u001b[39m\u001b[39m.\u001b[39mbrowser \u001b[39m=\u001b[39m \u001b[39mself\u001b[39;49m\u001b[39m.\u001b[39;49msession\u001b[39m.\u001b[39;49mbrowser  \u001b[39m# Automatically create a event loop and browser\u001b[39;00m\n\u001b[0;32m    587\u001b[0m     content \u001b[39m=\u001b[39m \u001b[39mNone\u001b[39;00m\n\u001b[0;32m    589\u001b[0m     \u001b[39m# Automatically set Reload to False, if example URL is being used.\u001b[39;00m\n",
      "File \u001b[1;32mc:\\Users\\William Lumme\\AppData\\Local\\Programs\\Python\\Python39\\lib\\site-packages\\requests_html.py:729\u001b[0m, in \u001b[0;36mHTMLSession.browser\u001b[1;34m(self)\u001b[0m\n\u001b[0;32m    727\u001b[0m     \u001b[39mself\u001b[39m\u001b[39m.\u001b[39mloop \u001b[39m=\u001b[39m asyncio\u001b[39m.\u001b[39mget_event_loop()\n\u001b[0;32m    728\u001b[0m     \u001b[39mif\u001b[39;00m \u001b[39mself\u001b[39m\u001b[39m.\u001b[39mloop\u001b[39m.\u001b[39mis_running():\n\u001b[1;32m--> 729\u001b[0m         \u001b[39mraise\u001b[39;00m \u001b[39mRuntimeError\u001b[39;00m(\u001b[39m\"\u001b[39m\u001b[39mCannot use HTMLSession within an existing event loop. Use AsyncHTMLSession instead.\u001b[39m\u001b[39m\"\u001b[39m)\n\u001b[0;32m    730\u001b[0m     \u001b[39mself\u001b[39m\u001b[39m.\u001b[39m_browser \u001b[39m=\u001b[39m \u001b[39mself\u001b[39m\u001b[39m.\u001b[39mloop\u001b[39m.\u001b[39mrun_until_complete(\u001b[39msuper\u001b[39m()\u001b[39m.\u001b[39mbrowser)\n\u001b[0;32m    731\u001b[0m \u001b[39mreturn\u001b[39;00m \u001b[39mself\u001b[39m\u001b[39m.\u001b[39m_browser\n",
      "\u001b[1;31mRuntimeError\u001b[0m: Cannot use HTMLSession within an existing event loop. Use AsyncHTMLSession instead."
     ]
    }
   ],
   "source": [
    "from requests_html import HTMLSession\n",
    "\n",
    "session = HTMLSession()\n",
    "result = session.get('https://www.theworldofpokemon.com/entryPages/entryPage_387.html')\n",
    "result.html.render()\n",
    "# about = r.html.search(\"Habitat Info\")\n",
    "print(result.html.text)\n",
    "# with open(\"test_render.html\", \"w\", encoding=\"utf-8\") as file:\n",
    "#    file.writelines(result.text)\n",
    "session.close()"
   ]
  },
  {
   "cell_type": "code",
   "execution_count": 2,
   "metadata": {},
   "outputs": [
    {
     "ename": "RuntimeError",
     "evalue": "This event loop is already running",
     "output_type": "error",
     "traceback": [
      "\u001b[1;31m---------------------------------------------------------------------------\u001b[0m",
      "\u001b[1;31mRuntimeError\u001b[0m                              Traceback (most recent call last)",
      "Cell \u001b[1;32mIn[2], line 11\u001b[0m\n\u001b[0;32m      8\u001b[0m     \u001b[39mawait\u001b[39;00m result\u001b[39m.\u001b[39mhtml\u001b[39m.\u001b[39marender()\n\u001b[0;32m      9\u001b[0m     \u001b[39mprint\u001b[39m(result\u001b[39m.\u001b[39mhtml\u001b[39m.\u001b[39mtext)\n\u001b[1;32m---> 11\u001b[0m session\u001b[39m.\u001b[39;49mrun(get_result)\n",
      "File \u001b[1;32mc:\\Users\\William Lumme\\AppData\\Local\\Programs\\Python\\Python39\\lib\\site-packages\\requests_html.py:774\u001b[0m, in \u001b[0;36mAsyncHTMLSession.run\u001b[1;34m(self, *coros)\u001b[0m\n\u001b[0;32m    768\u001b[0m \u001b[39m\u001b[39m\u001b[39m\"\"\" Pass in all the coroutines you want to run, it will wrap each one\u001b[39;00m\n\u001b[0;32m    769\u001b[0m \u001b[39m    in a task, run it and wait for the result. Return a list with all\u001b[39;00m\n\u001b[0;32m    770\u001b[0m \u001b[39m    results, this is returned in the same order coros are passed in. \"\"\"\u001b[39;00m\n\u001b[0;32m    771\u001b[0m tasks \u001b[39m=\u001b[39m [\n\u001b[0;32m    772\u001b[0m     asyncio\u001b[39m.\u001b[39mensure_future(coro()) \u001b[39mfor\u001b[39;00m coro \u001b[39min\u001b[39;00m coros\n\u001b[0;32m    773\u001b[0m ]\n\u001b[1;32m--> 774\u001b[0m done, _ \u001b[39m=\u001b[39m \u001b[39mself\u001b[39;49m\u001b[39m.\u001b[39;49mloop\u001b[39m.\u001b[39;49mrun_until_complete(asyncio\u001b[39m.\u001b[39;49mwait(tasks))\n\u001b[0;32m    775\u001b[0m \u001b[39mreturn\u001b[39;00m [t\u001b[39m.\u001b[39mresult() \u001b[39mfor\u001b[39;00m t \u001b[39min\u001b[39;00m done]\n",
      "File \u001b[1;32mc:\\Users\\William Lumme\\AppData\\Local\\Programs\\Python\\Python39\\lib\\asyncio\\base_events.py:618\u001b[0m, in \u001b[0;36mBaseEventLoop.run_until_complete\u001b[1;34m(self, future)\u001b[0m\n\u001b[0;32m    607\u001b[0m \u001b[39m\u001b[39m\u001b[39m\"\"\"Run until the Future is done.\u001b[39;00m\n\u001b[0;32m    608\u001b[0m \n\u001b[0;32m    609\u001b[0m \u001b[39mIf the argument is a coroutine, it is wrapped in a Task.\u001b[39;00m\n\u001b[1;32m   (...)\u001b[0m\n\u001b[0;32m    615\u001b[0m \u001b[39mReturn the Future's result, or raise its exception.\u001b[39;00m\n\u001b[0;32m    616\u001b[0m \u001b[39m\"\"\"\u001b[39;00m\n\u001b[0;32m    617\u001b[0m \u001b[39mself\u001b[39m\u001b[39m.\u001b[39m_check_closed()\n\u001b[1;32m--> 618\u001b[0m \u001b[39mself\u001b[39;49m\u001b[39m.\u001b[39;49m_check_running()\n\u001b[0;32m    620\u001b[0m new_task \u001b[39m=\u001b[39m \u001b[39mnot\u001b[39;00m futures\u001b[39m.\u001b[39misfuture(future)\n\u001b[0;32m    621\u001b[0m future \u001b[39m=\u001b[39m tasks\u001b[39m.\u001b[39mensure_future(future, loop\u001b[39m=\u001b[39m\u001b[39mself\u001b[39m)\n",
      "File \u001b[1;32mc:\\Users\\William Lumme\\AppData\\Local\\Programs\\Python\\Python39\\lib\\asyncio\\base_events.py:578\u001b[0m, in \u001b[0;36mBaseEventLoop._check_running\u001b[1;34m(self)\u001b[0m\n\u001b[0;32m    576\u001b[0m \u001b[39mdef\u001b[39;00m \u001b[39m_check_running\u001b[39m(\u001b[39mself\u001b[39m):\n\u001b[0;32m    577\u001b[0m     \u001b[39mif\u001b[39;00m \u001b[39mself\u001b[39m\u001b[39m.\u001b[39mis_running():\n\u001b[1;32m--> 578\u001b[0m         \u001b[39mraise\u001b[39;00m \u001b[39mRuntimeError\u001b[39;00m(\u001b[39m'\u001b[39m\u001b[39mThis event loop is already running\u001b[39m\u001b[39m'\u001b[39m)\n\u001b[0;32m    579\u001b[0m     \u001b[39mif\u001b[39;00m events\u001b[39m.\u001b[39m_get_running_loop() \u001b[39mis\u001b[39;00m \u001b[39mnot\u001b[39;00m \u001b[39mNone\u001b[39;00m:\n\u001b[0;32m    580\u001b[0m         \u001b[39mraise\u001b[39;00m \u001b[39mRuntimeError\u001b[39;00m(\n\u001b[0;32m    581\u001b[0m             \u001b[39m'\u001b[39m\u001b[39mCannot run the event loop while another loop is running\u001b[39m\u001b[39m'\u001b[39m)\n",
      "\u001b[1;31mRuntimeError\u001b[0m: This event loop is already running"
     ]
    },
    {
     "name": "stdout",
     "output_type": "stream",
     "text": [
      "window.dataLayer = window.dataLayer || []; function gtag(){dataLayer.push(arguments);} gtag('js', new Date()); gtag('config', 'G-NP4C5XZVLG');\n",
      ".section-info-mobile {display: none;} /* Smartphone Portrait and Landscape */ @media only screen and (min-device-width : 320px) and (max-device-width : 480px){ .section-info-mobile {display: inline;} }\n",
      ".section-info { display: inline; } /* Smartphone Portrait and Landscape */ @media only screen and (min-device-width : 320px) and (max-device-width : 480px){ .section-info { display: none;} }\n",
      "generateStyle()\n",
      "html,h1,h2,h3,h4,h5,h6 {font-family: 'Quattrocento', serif; margin-top:5px; margin-bottom:5px;}p {line-height:25px; font-size:16px; font-weight:100; color:#3e3e3e; -webkit-font-smoothing: antialiased;}body {font-family: 'Quattrocento Sans', sans-serif;}.w3-sidebar {z-index: 3;width: 250px;top: 43px;bottom: 0;height: inherit;}.wsite-button-inner {letter-spacing:2px!important;}.w3-button {margin:2px 2px 2px 2px;}.content {padding: 16px;}.sticky {position:fixed; top:0; margin:0px 0px 0px 0px; width:950px;border-style:none none solid none; border-width:1px; border-color:#eee;z-index:3;}.sticky + .content {padding-top: 90px;}a {color:#b9b9b9 !important;text-decoration: none;}\n",
      "Turtwig\n",
      "generateNavBar()\n",
      "THE WORLD OF\n",
      "POKÉMON\n",
      "SITE NEWSKANTOJOHTOHOENNSINNOHUNOVAKALOSALOLAGALARPALDEAABOUTRESEARCH NOTESHABITATSTAXONOMYCARE & DIFFICULTYBEHAVIORARTICLESLOCATION GENERATORREGION GENERATORSTARTER QUIZ\n",
      "var navVarReady = 1;\n",
      "Turtwig\n",
      "The Tiny Leaf Pokémon\n",
      "Research Notes\n",
      "Research Notes\n",
      "No 387\n",
      "Type:\n",
      "Grass\n",
      "Ht: 1′04″ | 0.4 m\n",
      "Wt: 22.5 lbs | 10.2 kgs\n",
      "Abilities: Overgrow | Shell Armor\n",
      "Egg Groups: Monster | Grass\n",
      "Habitat\n",
      "Habitat\n",
      "Sinnohian forests\n",
      "Overview\n",
      "Overview\n",
      "Trainers starting out in the Sinnoh region may choose Turtwig as their starter Pokémon. As Very mild natured creatures, Turtwig are neither fussy nor egregious, making them popular choices among laid-back trainers. Turtwig rarely eat solid food (though they do indulge in Berries from time to time), gathering most of their energy via photosynthesis primarily through the leaves on their heads. The “shells” on their backs are actually layers of hardened soil. Turtwig must drink lots of clean water to keep their shells from becoming too dry and cracking. The shells of healthy Turtwig should feel moist to the touch, but not so waterlogged that they crumble when prodded. When Turtwig are thirsty, their leaves will wilt. They become more energetic in bright sunlight. Recently, researchers have discovered that their entire bodies can in fact undergo photosynthesis, allowing them to survive even if their leaves are damaged. Because of this, they are constantly enveloped in layers of clean oxygen. Thanks to their easygoing personalities, Turtwig have remained popular choices for trainers in Sinnoh for decades.\n",
      "Notes\n",
      "Notes\n",
      "﻿Evolves into Grotle at Lvl 18\n",
      "Grotle evolves into Torterra at Lvl 32\n",
      "PREVIOUS NEXT\n",
      "generateFooter()\n",
      "Found an error or have a suggestion? Send an e-mail to theworldofpokemonmail@gmail.com!\n",
      "\n",
      "\n",
      "Pokémon and all associated names and characters are trademarked and\n",
      "© 1995-2021 Nintendo.\n",
      "All non-original images are provided by Bulbapedia, © 1995-2021 Nintendo.\n",
      "No copyright infringement intended.\n"
     ]
    }
   ],
   "source": [
    "from requests_html import HTMLSession\n",
    "from requests_html import AsyncHTMLSession\n",
    "\n",
    "session = AsyncHTMLSession()\n",
    "\n",
    "async def get_result():\n",
    "    result = await session.get('https://www.theworldofpokemon.com/entryPages/entryPage_387.html')\n",
    "    await result.html.arender()\n",
    "    print(result.html.text)\n",
    "\n",
    "session.run(get_result)"
   ]
  }
 ],
 "metadata": {
  "kernelspec": {
   "display_name": "Python 3",
   "language": "python",
   "name": "python3"
  },
  "language_info": {
   "codemirror_mode": {
    "name": "ipython",
    "version": 3
   },
   "file_extension": ".py",
   "mimetype": "text/x-python",
   "name": "python",
   "nbconvert_exporter": "python",
   "pygments_lexer": "ipython3",
   "version": "3.9.5"
  },
  "orig_nbformat": 4,
  "vscode": {
   "interpreter": {
    "hash": "8502fd603c114ba348281e701a749d8b1da90a2491980f871c71a29872893d7d"
   }
  }
 },
 "nbformat": 4,
 "nbformat_minor": 2
}
