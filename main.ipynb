{
 "cells": [
  {
   "cell_type": "code",
   "execution_count": 36,
   "metadata": {},
   "outputs": [],
   "source": [
    "# Convert ts file to json\n",
    "\n",
    "import re\n",
    "\n",
    "txt = \"\"\n",
    "with open(\"learnsets.ts\") as file:\n",
    "    txt = file.read()\n",
    "\n",
    "txt = re.split(\"=\", txt)[1]\n",
    "txt = re.sub(\"//.*\", \"\", txt)\n",
    "txt = re.sub(\"(\\w+):\", \"\\\"\\g<1>\\\":\", txt)\n",
    "txt = re.sub(\",(\\s*)(]|})\", \"\\g<1>\\g<2>\", txt)\n",
    "txt = re.sub(\";\", \"\", txt)\n",
    "\n",
    "with open(\"learnsets.json\", \"w\") as file:\n",
    "    file.write(txt)\n"
   ]
  }
 ],
 "metadata": {
  "kernelspec": {
   "display_name": "Python 3",
   "language": "python",
   "name": "python3"
  },
  "language_info": {
   "codemirror_mode": {
    "name": "ipython",
    "version": 3
   },
   "file_extension": ".py",
   "mimetype": "text/x-python",
   "name": "python",
   "nbconvert_exporter": "python",
   "pygments_lexer": "ipython3",
   "version": "3.10.10"
  },
  "orig_nbformat": 4
 },
 "nbformat": 4,
 "nbformat_minor": 2
}
